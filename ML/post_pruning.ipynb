{
 "cells": [
  {
   "cell_type": "raw",
   "id": "99303f15",
   "metadata": {},
   "source": [
    "from sklearn.tree import DecisionTreeClassifier\n",
    "from sklearn.model_selection import train_test_split\n",
    "from sklearn.metrics import accuracy_score\n",
    "\n",
    "# Load your dataset and split it into training and validation sets\n",
    "X_train, X_val, y_train, y_val = train_test_split(X, y, test_size=0.2, random_state=42)\n",
    "\n",
    "# Build the initial decision tree\n",
    "tree = DecisionTreeClassifier(random_state=42)\n",
    "tree.fit(X_train, y_train)\n",
    "\n",
    "# Evaluate performance on the validation set\n",
    "val_predictions = tree.predict(X_val)\n",
    "val_accuracy = accuracy_score(y_val, val_predictions)\n",
    "print(\"Initial Decision Tree Accuracy on Validation Set:\", val_accuracy)\n",
    "\n",
    "# Perform cost-complexity pruning\n",
    "path = tree.cost_complexity_pruning_path(X_train, y_train)\n",
    "ccp_alphas, impurities = path.ccp_alphas, path.impurities\n",
    "\n",
    "# Iterate over different alpha values and prune the tree\n",
    "pruned_trees = []\n",
    "for alpha in ccp_alphas:\n",
    "    pruned_tree = DecisionTreeClassifier(random_state=42, ccp_alpha=alpha)\n",
    "    pruned_tree.fit(X_train, y_train)\n",
    "    pruned_trees.append(pruned_tree)\n",
    "\n",
    "# Evaluate the pruned trees on the validation set and select the best one\n",
    "best_val_accuracy = 0\n",
    "best_pruned_tree = None\n",
    "for tree in pruned_trees:\n",
    "    val_predictions = tree.predict(X_val)\n",
    "    val_accuracy = accuracy_score(y_val, val_predictions)\n",
    "    if val_accuracy > best_val_accuracy:\n",
    "        best_val_accuracy = val_accuracy\n",
    "        best_pruned_tree = tree\n",
    "\n",
    "print(\"Best Pruned Tree Accuracy on Validation Set:\", best_val_accuracy)\n",
    "\n",
    "# Evaluate the best pruned tree on the test set\n",
    "test_predictions = best_pruned_tree.predict(X_test)\n",
    "test_accuracy = accuracy_score(y_test, test_predictions)\n",
    "print(\"Best Pruned Tree Accuracy on Test Set:\", test_accuracy)"
   ]
  }
 ],
 "metadata": {
  "kernelspec": {
   "display_name": "Python 3 (ipykernel)",
   "language": "python",
   "name": "python3"
  },
  "language_info": {
   "codemirror_mode": {
    "name": "ipython",
    "version": 3
   },
   "file_extension": ".py",
   "mimetype": "text/x-python",
   "name": "python",
   "nbconvert_exporter": "python",
   "pygments_lexer": "ipython3",
   "version": "3.10.9"
  }
 },
 "nbformat": 4,
 "nbformat_minor": 5
}
